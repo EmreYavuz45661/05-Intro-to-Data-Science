{
 "cells": [
  {
   "cell_type": "markdown",
   "metadata": {
    "colab_type": "text",
    "id": "view-in-github"
   },
   "source": [
    "<a href=\"https://colab.research.google.com/github/bwsi-hadr/05-Intro-to-Data-Science/blob/master/05_Intro_to_data_science.ipynb\" target=\"_parent\"><img src=\"https://colab.research.google.com/assets/colab-badge.svg\" alt=\"Open In Colab\"/></a>"
   ]
  },
  {
   "cell_type": "markdown",
   "metadata": {
    "colab_type": "text",
    "id": "U6wZ292d7UK0"
   },
   "source": [
    "# Intro to Data Science\n",
    "Data science is a broad discipline, generally using models and data to infer, predict, and describe phenomena.\n",
    "\n",
    "There are a ton of techniques in data science: a full college degree's worth. So we will focus on a few methods that may be applicable for geospatial analysis for disaster assessment and response.\n",
    "\n",
    "We'll be using [sci-kit learn](https://scikit-learn.org/stable/index.html) for most of our classification tasks. "
   ]
  },
  {
   "cell_type": "code",
   "execution_count": null,
   "metadata": {
    "colab": {},
    "colab_type": "code",
    "id": "SgZo-DkLACLE"
   },
   "outputs": [],
   "source": [
    "from sklearn.cluster import KMeans, DBSCAN, AgglomerativeClustering, OPTICS\n",
    "from sklearn.datasets import make_blobs\n",
    "import networkx as nx\n",
    "try:\n",
    "  import osmnx as ox\n",
    "except:\n",
    "  # osmnx depends on the system package libspatialindex\n",
    "  !apt install libspatialindex-dev\n",
    "  !pip install osmnx\n",
    "  import osmnx as ox\n",
    "\n",
    "try: \n",
    "  import geopandas as gpd\n",
    "except: \n",
    "  !pip install geopandas \n",
    "  import geopandas as gpd\n",
    "  \n",
    "try:\n",
    "  import contextily as ctx \n",
    "except:\n",
    "  # install dependencies for contextily\n",
    "  !apt install libproj-dev proj-data proj-bin\n",
    "  !apt install libgeos-dev\n",
    "  !pip install cython\n",
    "  !pip install cartopy\n",
    "  # install contextily\n",
    "  !pip install contextily==1.0rc1 --no-use-pep517 --no-cache-dir\n",
    "  import contextily as ctx\n",
    "  \n",
    "import fiona\n",
    "import fiona.crs\n",
    "from shapely.geometry import Point, LineString, Polygon\n",
    "from matplotlib import pyplot as plt\n",
    "import pandas as pd\n",
    "import numpy as np"
   ]
  },
  {
   "cell_type": "code",
   "execution_count": null,
   "metadata": {
    "colab": {
     "base_uri": "https://localhost:8080/",
     "height": 34
    },
    "colab_type": "code",
    "id": "LOg1_i0z4-dk",
    "outputId": "6a520d15-4674-41a2-d082-bae7cbaaf189"
   },
   "outputs": [],
   "source": [
    "# Coordinates of the MIT main campus in Decimal Degrees\n",
    "coordinates = [(-71.092562, 42.357602), (-71.080155, 42.361553),\n",
    "               (-71.089817, 42.362584), (-71.094688, 42.360198)]\n",
    "\n",
    "# Create a Shapely polygon from the coordinate-tuple list\n",
    "poly = Polygon(coordinates)\n",
    "\n",
    "# convert to meters (UTM) from latlong\n",
    "poly_m, poly_crs_m = ox.projection.project_geometry(poly)\n",
    "print(poly_crs_m)\n",
    "\n",
    "# put a buffer of 1 mile (1609.34 m) to get everything w/in 1 mile\n",
    "poly_with_buffer_m = poly_m.buffer(1609.34)\n",
    "# get the bounding box\n",
    "poly_with_buffer_m = poly_with_buffer_m.envelope\n",
    "\n",
    "# convert back to lat-long\n",
    "poly_with_buffer_ll, poly_crs_ll = ox.projection.project_geometry(poly_with_buffer_m, \n",
    "                                                        crs=poly_crs_m, \n",
    "                                                        to_crs=fiona.crs.from_epsg(4326), \n",
    "                                                        to_latlong=True)\n",
    "\n",
    "# get all walkable roads within poly\n",
    "walkable_roads_near_mit = ox.graph_from_polygon(poly_with_buffer_ll, \n",
    "                                       network_type='walk',\n",
    "                                       clean_periphery=True)\n",
    "\n",
    "# we can get the footprints of objects within this poly\n",
    "building_footprints = ox.footprints_from_polygon(poly_with_buffer_ll, \n",
    "                                                 footprint_type='building')\n",
    "\n",
    "# drop rows where there's no shape info\n",
    "building_footprints = building_footprints.loc[~building_footprints['geometry'].isna()]\n",
    "\n",
    "# project to UTM\n",
    "building_footprints_proj = ox.projection.project_gdf(building_footprints)\n",
    "\n",
    "\n"
   ]
  },
  {
   "cell_type": "code",
   "execution_count": null,
   "metadata": {
    "colab": {},
    "colab_type": "code",
    "id": "u9eF8Q_yC8DX"
   },
   "outputs": [],
   "source": [
    "# get the centers of the footprints for easier classification\n",
    "building_centers = building_footprints_proj.copy()\n",
    "building_centers['geometry'] = building_footprints['geometry'].centroid"
   ]
  },
  {
   "cell_type": "code",
   "execution_count": null,
   "metadata": {
    "colab": {
     "base_uri": "https://localhost:8080/",
     "height": 428
    },
    "colab_type": "code",
    "id": "nRHgD7OQCuJ9",
    "outputId": "47c456e0-3919-46ec-a31b-e1fd2373e58a"
   },
   "outputs": [],
   "source": [
    "building_centers.plot(figsize=[10,10], markersize=0.5)"
   ]
  },
  {
   "cell_type": "markdown",
   "metadata": {
    "colab_type": "text",
    "id": "Uy-X8wNO9iFq"
   },
   "source": [
    "# Clustering\n",
    "Clustering looks for \"groups\" within the data. This is an example of unsupervised learning, where the \"true\" classification of the data is not provided to the algorithm.\n",
    "\n",
    "This is good for exploring the structure of the data. "
   ]
  },
  {
   "cell_type": "markdown",
   "metadata": {
    "colab_type": "text",
    "id": "uo09_lpsAoSQ"
   },
   "source": [
    "## k-Means\n",
    "k-means partitions groups into _k_ clusters, where each observation belongs to the cluster with the nearest mean. This divides the space into [Voronoi cells](https://en.wikipedia.org/wiki/Voronoi_cell).\n",
    "\n",
    "There are a number of assumptions that the k-means classifier makes, which could make it fail. Below we'll illustrate some of those assumptions."
   ]
  },
  {
   "cell_type": "code",
   "execution_count": null,
   "metadata": {
    "colab": {
     "base_uri": "https://localhost:8080/",
     "height": 607
    },
    "colab_type": "code",
    "id": "UEArfEnBAjos",
    "outputId": "a8f73413-8e4f-4758-f7c1-a38d30e53312"
   },
   "outputs": [],
   "source": [
    "plt.figure(figsize=(10, 10))\n",
    "\n",
    "n_samples = 1500\n",
    "random_state = 170\n",
    "X, y = make_blobs(n_samples=n_samples, random_state=random_state)\n",
    "\n",
    "# Incorrect number of clusters\n",
    "y_pred = KMeans(n_clusters=2, random_state=random_state).fit_predict(X)\n",
    "\n",
    "plt.subplot(221)\n",
    "plt.scatter(X[:, 0], X[:, 1], c=y_pred)\n",
    "plt.title(\"Incorrect Number of Blobs\")\n",
    "\n",
    "# Anisotropicly distributed data\n",
    "# anisotropic means there data spreads more in one direction than the other\n",
    "transformation = [[0.60834549, -0.63667341], [-0.40887718, 0.85253229]]\n",
    "X_aniso = np.dot(X, transformation)\n",
    "y_pred = KMeans(n_clusters=3, random_state=random_state).fit_predict(X_aniso)\n",
    "\n",
    "plt.subplot(222)\n",
    "plt.scatter(X_aniso[:, 0], X_aniso[:, 1], c=y_pred)\n",
    "plt.title(\"Anisotropicly Distributed Blobs\")\n",
    "\n",
    "# Different variance\n",
    "X_varied, y_varied = make_blobs(n_samples=n_samples,\n",
    "                                cluster_std=[1.0, 2.5, 0.5],\n",
    "                                random_state=random_state)\n",
    "y_pred = KMeans(n_clusters=3, random_state=random_state).fit_predict(X_varied)\n",
    "\n",
    "plt.subplot(223)\n",
    "plt.scatter(X_varied[:, 0], X_varied[:, 1], c=y_pred)\n",
    "plt.title(\"Unequal Variance\")\n",
    "\n",
    "# Unevenly sized blobs\n",
    "X_filtered = np.vstack((X[y == 0][:500], X[y == 1][:100], X[y == 2][:10]))\n",
    "y_pred = KMeans(n_clusters=3,\n",
    "                random_state=random_state).fit_predict(X_filtered)\n",
    "\n",
    "plt.subplot(224)\n",
    "plt.scatter(X_filtered[:, 0], X_filtered[:, 1], c=y_pred)\n",
    "plt.title(\"Unevenly Sized Blobs\")\n",
    "\n",
    "plt.show()"
   ]
  },
  {
   "cell_type": "markdown",
   "metadata": {
    "colab_type": "text",
    "id": "hKnEMxYxFRjG"
   },
   "source": [
    "### Applying to our building data"
   ]
  },
  {
   "cell_type": "code",
   "execution_count": null,
   "metadata": {
    "colab": {},
    "colab_type": "code",
    "id": "1fNjuIGfCr2m"
   },
   "outputs": [],
   "source": [
    "point_coords = zip(building_centers['geometry'].x, building_centers['geometry'].y)\n",
    "point_coords = np.array([[x,y] for x,y in point_coords])"
   ]
  },
  {
   "cell_type": "code",
   "execution_count": null,
   "metadata": {
    "colab": {},
    "colab_type": "code",
    "id": "wVEZxnEhGubo"
   },
   "outputs": [],
   "source": [
    "kmeans_2 = KMeans(n_clusters=2).fit_predict(point_coords)\n",
    "kmeans_3 = KMeans(n_clusters=3).fit_predict(point_coords)\n",
    "kmeans_4 = KMeans(n_clusters=4).fit_predict(point_coords)\n",
    "kmeans_5 = KMeans(n_clusters=5).fit_predict(point_coords)"
   ]
  },
  {
   "cell_type": "code",
   "execution_count": null,
   "metadata": {
    "colab": {
     "base_uri": "https://localhost:8080/",
     "height": 430
    },
    "colab_type": "code",
    "id": "ouD5XeF6JLvE",
    "outputId": "51004d93-f4b6-4d8c-f9bf-8739ebc74c48"
   },
   "outputs": [],
   "source": [
    "building_centers.plot(figsize=[10,10], column=kmeans_2, markersize=1)"
   ]
  },
  {
   "cell_type": "code",
   "execution_count": null,
   "metadata": {
    "colab": {
     "base_uri": "https://localhost:8080/",
     "height": 430
    },
    "colab_type": "code",
    "id": "_edl5to2Jbtl",
    "outputId": "f9db3edd-64dc-4dad-adc4-315ce5cb3b44"
   },
   "outputs": [],
   "source": [
    "building_centers.plot(figsize=[10,10], column=kmeans_3, markersize=1)"
   ]
  },
  {
   "cell_type": "code",
   "execution_count": null,
   "metadata": {
    "colab": {
     "base_uri": "https://localhost:8080/",
     "height": 430
    },
    "colab_type": "code",
    "id": "6QVu6-vqJeyb",
    "outputId": "bc665ce7-622a-4a21-bedd-e7aea8c155a8"
   },
   "outputs": [],
   "source": [
    "building_centers.plot(figsize=[10,10], column=kmeans_4, markersize=1)"
   ]
  },
  {
   "cell_type": "code",
   "execution_count": null,
   "metadata": {
    "colab": {
     "base_uri": "https://localhost:8080/",
     "height": 430
    },
    "colab_type": "code",
    "id": "p0Bif1aSJe-j",
    "outputId": "a02f4e59-4d8d-4f04-daa7-02dc81310a9d"
   },
   "outputs": [],
   "source": [
    "building_centers.plot(figsize=[10,10], column=kmeans_5, markersize=1)"
   ]
  },
  {
   "cell_type": "markdown",
   "metadata": {
    "colab_type": "text",
    "id": "R3t_Y4weKIAx"
   },
   "source": [
    "## DBSCAN\n",
    "DBSCAN looks for areas of high density separated by areas of lower density.\n",
    "\n",
    "Need to manually select value of `eps` and `min_samples` as tuning variables."
   ]
  },
  {
   "cell_type": "code",
   "execution_count": null,
   "metadata": {
    "colab": {
     "base_uri": "https://localhost:8080/",
     "height": 441
    },
    "colab_type": "code",
    "id": "mSJELmqzKwDO",
    "outputId": "559f9a4b-5bc1-4042-9c51-b6e3353f5c3e"
   },
   "outputs": [],
   "source": [
    "dbscan_class = DBSCAN(eps=0.001, min_samples=25).fit_predict(point_coords)\n",
    "print(dbscan_class)\n",
    "building_footprints.plot(figsize=[10,10], column=dbscan_class, markersize=0.05, cmap='tab20')"
   ]
  },
  {
   "cell_type": "markdown",
   "metadata": {
    "colab_type": "text",
    "id": "n1lyJ5siMRJN"
   },
   "source": [
    "### OPTICS\n",
    "[OPTICS](https://scikit-learn.org/stable/modules/generated/sklearn.cluster.OPTICS.html#sklearn.cluster.OPTICS) is similar to DBSCAN, but keeps cluster hierarchy for a variable neighborhood radius."
   ]
  },
  {
   "cell_type": "code",
   "execution_count": null,
   "metadata": {
    "colab": {
     "base_uri": "https://localhost:8080/",
     "height": 423
    },
    "colab_type": "code",
    "id": "lIDKt2XSMc89",
    "outputId": "51bc857b-60ef-4c39-ff24-c53d262912e1"
   },
   "outputs": [],
   "source": [
    "optics_class = OPTICS(min_samples=50, max_eps=0.001).fit_predict(point_coords)\n",
    "building_footprints.plot(figsize=[10,10],column=optics_class, cmap='tab20')"
   ]
  },
  {
   "cell_type": "markdown",
   "metadata": {
    "colab_type": "text",
    "id": "Z9_Jh5S9Jsgh"
   },
   "source": [
    "## Agglomerative Hierarchical clustering\n",
    "Agglomerative Hierarchical clustering forms clusters by starting all points off in their own cluster. Then clusters are merged together if they minimally increase a given \"linkage\" metric. This is done iteratively until the target number of clusters is reached, or a threshold metric value is reached.\n",
    "\n",
    "The `n_clusters` and `distance_threshold` parameters need to be tuned manually.\n",
    "\n",
    "The linkage types are:\n",
    "- `ward` which minimizes the variance of the clusters eing merged\n",
    "- `average` is the average of the distances of observations between sets\n",
    "- `complete` or `maximum` uses the maximum distances between the observations of the two sets\n",
    "- `single` uses the minimum distance between all observations of the two sets"
   ]
  },
  {
   "cell_type": "code",
   "execution_count": null,
   "metadata": {
    "colab": {
     "base_uri": "https://localhost:8080/",
     "height": 423
    },
    "colab_type": "code",
    "id": "8zXPo2-5Prt3",
    "outputId": "991ff8a6-306b-4449-f89d-88192cc43361"
   },
   "outputs": [],
   "source": [
    "# can specify either distance threshold or n_clusters. Here we do distance_threshold\n",
    "agg_class = AgglomerativeClustering(n_clusters=None,\n",
    "                                    distance_threshold=0.1).fit_predict(point_coords)\n",
    "building_footprints.plot(figsize=[10,10],column=agg_class, cmap='tab20')\n"
   ]
  },
  {
   "cell_type": "code",
   "execution_count": null,
   "metadata": {
    "colab": {
     "base_uri": "https://localhost:8080/",
     "height": 423
    },
    "colab_type": "code",
    "id": "-9ogzEyVQgVN",
    "outputId": "9abb5df4-1b71-40eb-8766-c6010ee53036"
   },
   "outputs": [],
   "source": [
    "agg_class = AgglomerativeClustering(n_clusters=20).fit_predict(point_coords)\n",
    "building_footprints.plot(figsize=[10,10],column=agg_class, cmap='tab20')\n"
   ]
  },
  {
   "cell_type": "code",
   "execution_count": null,
   "metadata": {
    "colab": {
     "base_uri": "https://localhost:8080/",
     "height": 423
    },
    "colab_type": "code",
    "id": "XQ1qnBjmR8jw",
    "outputId": "7b52aaa7-c74b-437c-d6c8-a11ca75c2149"
   },
   "outputs": [],
   "source": [
    "# using a different linkage (single)\n",
    "agg_class = AgglomerativeClustering(n_clusters=None, linkage='single', \n",
    "                                    distance_threshold=0.0005).fit_predict(point_coords)\n",
    "building_footprints.plot(figsize=[10,10],column=agg_class, cmap='tab20')"
   ]
  },
  {
   "cell_type": "markdown",
   "metadata": {
    "colab_type": "text",
    "id": "3n2Ynm8sYhyQ"
   },
   "source": [
    "# Exercise\n",
    "All of the classifiers so far uses the straight-line distance to compute the cluster distances. Many methods take a distance matrix as an optional argument, which allows us to specify alternative distance metrics.\n",
    "\n",
    "In groups of 3, perform clustering on the building data using the road distance between points. Use the road information from osmnx. You will need to compute a distance matrix using the shortest route along the roads between each pair of points.\n",
    "\n",
    "A distance matrix is an $N \\times N$ matrix where the entry at location `i,j` represents the distance from node `i` to node `j`. "
   ]
  },
  {
   "cell_type": "code",
   "execution_count": null,
   "metadata": {
    "colab": {},
    "colab_type": "code",
    "id": "vDh9oqchzy8y"
   },
   "outputs": [],
   "source": []
  }
 ],
 "metadata": {
  "colab": {
   "collapsed_sections": [],
   "include_colab_link": true,
   "name": "05_Intro_to_data_science.ipynb",
   "provenance": [],
   "toc_visible": true,
   "version": "0.3.2"
  },
  "kernelspec": {
   "display_name": "Python 3",
   "language": "python",
   "name": "python3"
  },
  "language_info": {
   "codemirror_mode": {
    "name": "ipython",
    "version": 3
   },
   "file_extension": ".py",
   "mimetype": "text/x-python",
   "name": "python",
   "nbconvert_exporter": "python",
   "pygments_lexer": "ipython3",
   "version": "3.7.6"
  }
 },
 "nbformat": 4,
 "nbformat_minor": 4
}
